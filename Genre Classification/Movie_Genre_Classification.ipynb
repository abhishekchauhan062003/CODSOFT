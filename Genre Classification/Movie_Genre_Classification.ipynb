{
 "cells": [
  {
   "cell_type": "code",
   "execution_count": 3,
   "id": "509ce50e-3569-45b0-a156-deccc79695b2",
   "metadata": {},
   "outputs": [
    {
     "name": "stdout",
     "output_type": "stream",
     "text": [
      "Collecting pandas\n",
      "  Downloading pandas-2.2.3-cp312-cp312-win_amd64.whl.metadata (19 kB)\n",
      "Collecting numpy>=1.26.0 (from pandas)\n",
      "  Downloading numpy-2.1.2-cp312-cp312-win_amd64.whl.metadata (59 kB)\n",
      "Requirement already satisfied: python-dateutil>=2.8.2 in e:\\codsoft\\genre classification\\environment\\lib\\site-packages (from pandas) (2.9.0.post0)\n",
      "Collecting pytz>=2020.1 (from pandas)\n",
      "  Downloading pytz-2024.2-py2.py3-none-any.whl.metadata (22 kB)\n",
      "Collecting tzdata>=2022.7 (from pandas)\n",
      "  Downloading tzdata-2024.2-py2.py3-none-any.whl.metadata (1.4 kB)\n",
      "Requirement already satisfied: six>=1.5 in e:\\codsoft\\genre classification\\environment\\lib\\site-packages (from python-dateutil>=2.8.2->pandas) (1.16.0)\n",
      "Downloading pandas-2.2.3-cp312-cp312-win_amd64.whl (11.5 MB)\n",
      "   ---------------------------------------- 0.0/11.5 MB ? eta -:--:--\n",
      "    --------------------------------------- 0.3/11.5 MB ? eta -:--:--\n",
      "   -- ------------------------------------- 0.8/11.5 MB 2.8 MB/s eta 0:00:04\n",
      "   ----- ---------------------------------- 1.6/11.5 MB 2.7 MB/s eta 0:00:04\n",
      "   ------- -------------------------------- 2.1/11.5 MB 2.7 MB/s eta 0:00:04\n",
      "   --------- ------------------------------ 2.6/11.5 MB 2.7 MB/s eta 0:00:04\n",
      "   ----------- ---------------------------- 3.4/11.5 MB 2.9 MB/s eta 0:00:03\n",
      "   -------------- ------------------------- 4.2/11.5 MB 3.0 MB/s eta 0:00:03\n",
      "   ----------------- ---------------------- 5.0/11.5 MB 3.1 MB/s eta 0:00:03\n",
      "   -------------------- ------------------- 5.8/11.5 MB 3.2 MB/s eta 0:00:02\n",
      "   --------------------- ------------------ 6.3/11.5 MB 3.2 MB/s eta 0:00:02\n",
      "   ------------------------ --------------- 7.1/11.5 MB 3.2 MB/s eta 0:00:02\n",
      "   --------------------------- ------------ 7.9/11.5 MB 3.2 MB/s eta 0:00:02\n",
      "   ------------------------------ --------- 8.7/11.5 MB 3.3 MB/s eta 0:00:01\n",
      "   -------------------------------- ------- 9.4/11.5 MB 3.3 MB/s eta 0:00:01\n",
      "   ----------------------------------- ---- 10.2/11.5 MB 3.3 MB/s eta 0:00:01\n",
      "   -------------------------------------- - 11.0/11.5 MB 3.3 MB/s eta 0:00:01\n",
      "   ---------------------------------------- 11.5/11.5 MB 3.3 MB/s eta 0:00:00\n",
      "Downloading numpy-2.1.2-cp312-cp312-win_amd64.whl (12.6 MB)\n",
      "   ---------------------------------------- 0.0/12.6 MB ? eta -:--:--\n",
      "   - -------------------------------------- 0.5/12.6 MB 4.2 MB/s eta 0:00:03\n",
      "   ----- ---------------------------------- 1.6/12.6 MB 3.7 MB/s eta 0:00:04\n",
      "   ------ --------------------------------- 2.1/12.6 MB 3.5 MB/s eta 0:00:04\n",
      "   --------- ------------------------------ 2.9/12.6 MB 3.4 MB/s eta 0:00:03\n",
      "   ---------- ----------------------------- 3.4/12.6 MB 3.4 MB/s eta 0:00:03\n",
      "   ------------- -------------------------- 4.2/12.6 MB 3.3 MB/s eta 0:00:03\n",
      "   --------------- ------------------------ 5.0/12.6 MB 3.3 MB/s eta 0:00:03\n",
      "   ------------------ --------------------- 5.8/12.6 MB 3.3 MB/s eta 0:00:03\n",
      "   -------------------- ------------------- 6.3/12.6 MB 3.3 MB/s eta 0:00:02\n",
      "   ---------------------- ----------------- 7.1/12.6 MB 3.3 MB/s eta 0:00:02\n",
      "   ------------------------- -------------- 7.9/12.6 MB 3.3 MB/s eta 0:00:02\n",
      "   --------------------------- ------------ 8.7/12.6 MB 3.3 MB/s eta 0:00:02\n",
      "   ----------------------------- ---------- 9.2/12.6 MB 3.3 MB/s eta 0:00:02\n",
      "   ------------------------------- -------- 10.0/12.6 MB 3.3 MB/s eta 0:00:01\n",
      "   ---------------------------------- ----- 10.7/12.6 MB 3.4 MB/s eta 0:00:01\n",
      "   ------------------------------------ --- 11.5/12.6 MB 3.4 MB/s eta 0:00:01\n",
      "   ---------------------------------------  12.3/12.6 MB 3.4 MB/s eta 0:00:01\n",
      "   ---------------------------------------- 12.6/12.6 MB 3.3 MB/s eta 0:00:00\n",
      "Downloading pytz-2024.2-py2.py3-none-any.whl (508 kB)\n",
      "Downloading tzdata-2024.2-py2.py3-none-any.whl (346 kB)\n",
      "Installing collected packages: pytz, tzdata, numpy, pandas\n",
      "Successfully installed numpy-2.1.2 pandas-2.2.3 pytz-2024.2 tzdata-2024.2\n"
     ]
    }
   ],
   "source": [
    "!pip install pandas"
   ]
  },
  {
   "cell_type": "code",
   "execution_count": 1,
   "id": "0ae5e3d3-f467-4f7a-85f2-af167e8b47ef",
   "metadata": {},
   "outputs": [
    {
     "name": "stdout",
     "output_type": "stream",
     "text": [
      "E:\\Codsoft\\Genre Classification\\environment\\Scripts\\python.exe\n"
     ]
    }
   ],
   "source": [
    "import sys\n",
    "print(sys.executable)"
   ]
  },
  {
   "cell_type": "code",
   "execution_count": 2,
   "id": "0dde9c1f-e8fb-45e1-b2c3-f6dac6a1f2de",
   "metadata": {},
   "outputs": [],
   "source": [
    "import pandas as pd"
   ]
  },
  {
   "cell_type": "code",
   "execution_count": 3,
   "id": "7d2163ae",
   "metadata": {},
   "outputs": [],
   "source": [
    "path = \"Genre Classification Dataset/train_data.txt\"\n",
    "df = pd.read_csv(path,sep=\":::\",names=[\"Id\",\"Title\",\"Genre\",\"Description\"],engine=\"python\")"
   ]
  },
  {
   "cell_type": "code",
   "execution_count": 4,
   "id": "915f30af",
   "metadata": {},
   "outputs": [
    {
     "data": {
      "text/html": [
       "<div>\n",
       "<style scoped>\n",
       "    .dataframe tbody tr th:only-of-type {\n",
       "        vertical-align: middle;\n",
       "    }\n",
       "\n",
       "    .dataframe tbody tr th {\n",
       "        vertical-align: top;\n",
       "    }\n",
       "\n",
       "    .dataframe thead th {\n",
       "        text-align: right;\n",
       "    }\n",
       "</style>\n",
       "<table border=\"1\" class=\"dataframe\">\n",
       "  <thead>\n",
       "    <tr style=\"text-align: right;\">\n",
       "      <th></th>\n",
       "      <th>Id</th>\n",
       "      <th>Title</th>\n",
       "      <th>Genre</th>\n",
       "      <th>Description</th>\n",
       "    </tr>\n",
       "  </thead>\n",
       "  <tbody>\n",
       "    <tr>\n",
       "      <th>54209</th>\n",
       "      <td>54210</td>\n",
       "      <td>\"Bonino\" (1953)</td>\n",
       "      <td>comedy</td>\n",
       "      <td>This short-lived NBC live sitcom centered on ...</td>\n",
       "    </tr>\n",
       "    <tr>\n",
       "      <th>54210</th>\n",
       "      <td>54211</td>\n",
       "      <td>Dead Girls Don't Cry (????)</td>\n",
       "      <td>horror</td>\n",
       "      <td>The NEXT Generation of EXPLOITATION. The sist...</td>\n",
       "    </tr>\n",
       "    <tr>\n",
       "      <th>54211</th>\n",
       "      <td>54212</td>\n",
       "      <td>Ronald Goedemondt: Ze bestaan echt (2008)</td>\n",
       "      <td>documentary</td>\n",
       "      <td>Ze bestaan echt, is a stand-up comedy about g...</td>\n",
       "    </tr>\n",
       "    <tr>\n",
       "      <th>54212</th>\n",
       "      <td>54213</td>\n",
       "      <td>Make Your Own Bed (1944)</td>\n",
       "      <td>comedy</td>\n",
       "      <td>Walter and Vivian live in the country and hav...</td>\n",
       "    </tr>\n",
       "    <tr>\n",
       "      <th>54213</th>\n",
       "      <td>54214</td>\n",
       "      <td>Nature's Fury: Storm of the Century (2006)</td>\n",
       "      <td>history</td>\n",
       "      <td>On Labor Day Weekend, 1935, the most intense ...</td>\n",
       "    </tr>\n",
       "  </tbody>\n",
       "</table>\n",
       "</div>"
      ],
      "text/plain": [
       "          Id                                         Title          Genre  \\\n",
       "54209  54210                              \"Bonino\" (1953)         comedy    \n",
       "54210  54211                  Dead Girls Don't Cry (????)         horror    \n",
       "54211  54212    Ronald Goedemondt: Ze bestaan echt (2008)    documentary    \n",
       "54212  54213                     Make Your Own Bed (1944)         comedy    \n",
       "54213  54214   Nature's Fury: Storm of the Century (2006)        history    \n",
       "\n",
       "                                             Description  \n",
       "54209   This short-lived NBC live sitcom centered on ...  \n",
       "54210   The NEXT Generation of EXPLOITATION. The sist...  \n",
       "54211   Ze bestaan echt, is a stand-up comedy about g...  \n",
       "54212   Walter and Vivian live in the country and hav...  \n",
       "54213   On Labor Day Weekend, 1935, the most intense ...  "
      ]
     },
     "execution_count": 4,
     "metadata": {},
     "output_type": "execute_result"
    }
   ],
   "source": [
    "df.tail()"
   ]
  },
  {
   "cell_type": "code",
   "execution_count": 5,
   "id": "d45a811c",
   "metadata": {},
   "outputs": [
    {
     "name": "stdout",
     "output_type": "stream",
     "text": [
      "[' drama ', ' thriller ', ' adult ', ' documentary ', ' comedy ', ' crime ', ' reality-tv ', ' horror ', ' sport ', ' animation ', ' action ', ' fantasy ', ' short ', ' sci-fi ', ' music ', ' adventure ', ' talk-show ', ' western ', ' family ', ' mystery ', ' history ', ' news ', ' biography ', ' romance ', ' game-show ', ' musical ', ' war ']\n"
     ]
    }
   ],
   "source": [
    "labels=list(df[\"Genre\"].unique())\n",
    "print(labels)"
   ]
  },
  {
   "cell_type": "code",
   "execution_count": 14,
   "id": "ece1bf82",
   "metadata": {},
   "outputs": [
    {
     "name": "stdout",
     "output_type": "stream",
     "text": [
      "Collecting seaborn\n",
      "  Downloading seaborn-0.13.2-py3-none-any.whl.metadata (5.4 kB)\n",
      "Requirement already satisfied: numpy!=1.24.0,>=1.20 in e:\\codsoft\\genre classification\\environment\\lib\\site-packages (from seaborn) (2.1.2)\n",
      "Requirement already satisfied: pandas>=1.2 in e:\\codsoft\\genre classification\\environment\\lib\\site-packages (from seaborn) (2.2.3)\n",
      "Collecting matplotlib!=3.6.1,>=3.4 (from seaborn)\n",
      "  Downloading matplotlib-3.9.2-cp312-cp312-win_amd64.whl.metadata (11 kB)\n",
      "Collecting contourpy>=1.0.1 (from matplotlib!=3.6.1,>=3.4->seaborn)\n",
      "  Downloading contourpy-1.3.0-cp312-cp312-win_amd64.whl.metadata (5.4 kB)\n",
      "Collecting cycler>=0.10 (from matplotlib!=3.6.1,>=3.4->seaborn)\n",
      "  Using cached cycler-0.12.1-py3-none-any.whl.metadata (3.8 kB)\n",
      "Collecting fonttools>=4.22.0 (from matplotlib!=3.6.1,>=3.4->seaborn)\n",
      "  Downloading fonttools-4.54.1-cp312-cp312-win_amd64.whl.metadata (167 kB)\n",
      "Collecting kiwisolver>=1.3.1 (from matplotlib!=3.6.1,>=3.4->seaborn)\n",
      "  Downloading kiwisolver-1.4.7-cp312-cp312-win_amd64.whl.metadata (6.4 kB)\n",
      "Requirement already satisfied: packaging>=20.0 in e:\\codsoft\\genre classification\\environment\\lib\\site-packages (from matplotlib!=3.6.1,>=3.4->seaborn) (24.1)\n",
      "Collecting pillow>=8 (from matplotlib!=3.6.1,>=3.4->seaborn)\n",
      "  Downloading pillow-10.4.0-cp312-cp312-win_amd64.whl.metadata (9.3 kB)\n",
      "Collecting pyparsing>=2.3.1 (from matplotlib!=3.6.1,>=3.4->seaborn)\n",
      "  Downloading pyparsing-3.1.4-py3-none-any.whl.metadata (5.1 kB)\n",
      "Requirement already satisfied: python-dateutil>=2.7 in e:\\codsoft\\genre classification\\environment\\lib\\site-packages (from matplotlib!=3.6.1,>=3.4->seaborn) (2.9.0.post0)\n",
      "Requirement already satisfied: pytz>=2020.1 in e:\\codsoft\\genre classification\\environment\\lib\\site-packages (from pandas>=1.2->seaborn) (2024.2)\n",
      "Requirement already satisfied: tzdata>=2022.7 in e:\\codsoft\\genre classification\\environment\\lib\\site-packages (from pandas>=1.2->seaborn) (2024.2)\n",
      "Requirement already satisfied: six>=1.5 in e:\\codsoft\\genre classification\\environment\\lib\\site-packages (from python-dateutil>=2.7->matplotlib!=3.6.1,>=3.4->seaborn) (1.16.0)\n",
      "Downloading seaborn-0.13.2-py3-none-any.whl (294 kB)\n",
      "Downloading matplotlib-3.9.2-cp312-cp312-win_amd64.whl (7.8 MB)\n",
      "   ---------------------------------------- 0.0/7.8 MB ? eta -:--:--\n",
      "   ----- ---------------------------------- 1.0/7.8 MB 5.6 MB/s eta 0:00:02\n",
      "   --------- ------------------------------ 1.8/7.8 MB 4.6 MB/s eta 0:00:02\n",
      "   ------------- -------------------------- 2.6/7.8 MB 4.3 MB/s eta 0:00:02\n",
      "   ------------------ --------------------- 3.7/7.8 MB 4.2 MB/s eta 0:00:01\n",
      "   ---------------------- ----------------- 4.5/7.8 MB 4.1 MB/s eta 0:00:01\n",
      "   ------------------------ --------------- 4.7/7.8 MB 4.1 MB/s eta 0:00:01\n",
      "   ----------------------------- ---------- 5.8/7.8 MB 4.0 MB/s eta 0:00:01\n",
      "   -------------------------------- ------- 6.3/7.8 MB 3.9 MB/s eta 0:00:01\n",
      "   ------------------------------------ --- 7.1/7.8 MB 3.8 MB/s eta 0:00:01\n",
      "   -------------------------------------- - 7.6/7.8 MB 3.7 MB/s eta 0:00:01\n",
      "   ---------------------------------------- 7.8/7.8 MB 3.6 MB/s eta 0:00:00\n",
      "Downloading contourpy-1.3.0-cp312-cp312-win_amd64.whl (218 kB)\n",
      "Using cached cycler-0.12.1-py3-none-any.whl (8.3 kB)\n",
      "Downloading fonttools-4.54.1-cp312-cp312-win_amd64.whl (2.2 MB)\n",
      "   ---------------------------------------- 0.0/2.2 MB ? eta -:--:--\n",
      "   -------------- ------------------------- 0.8/2.2 MB 3.4 MB/s eta 0:00:01\n",
      "   ----------------------- ---------------- 1.3/2.2 MB 3.4 MB/s eta 0:00:01\n",
      "   --------------------------------- ------ 1.8/2.2 MB 3.0 MB/s eta 0:00:01\n",
      "   ---------------------------------------- 2.2/2.2 MB 2.9 MB/s eta 0:00:00\n",
      "Downloading kiwisolver-1.4.7-cp312-cp312-win_amd64.whl (55 kB)\n",
      "Downloading pillow-10.4.0-cp312-cp312-win_amd64.whl (2.6 MB)\n",
      "   ---------------------------------------- 0.0/2.6 MB ? eta -:--:--\n",
      "   -------- ------------------------------- 0.5/2.6 MB 2.8 MB/s eta 0:00:01\n",
      "   ---------------- ----------------------- 1.0/2.6 MB 2.6 MB/s eta 0:00:01\n",
      "   ------------------------ --------------- 1.6/2.6 MB 2.7 MB/s eta 0:00:01\n",
      "   ------------------------------------ --- 2.4/2.6 MB 2.8 MB/s eta 0:00:01\n",
      "   ---------------------------------------- 2.6/2.6 MB 2.8 MB/s eta 0:00:00\n",
      "Downloading pyparsing-3.1.4-py3-none-any.whl (104 kB)\n",
      "Installing collected packages: pyparsing, pillow, kiwisolver, fonttools, cycler, contourpy, matplotlib, seaborn\n",
      "Successfully installed contourpy-1.3.0 cycler-0.12.1 fonttools-4.54.1 kiwisolver-1.4.7 matplotlib-3.9.2 pillow-10.4.0 pyparsing-3.1.4 seaborn-0.13.2\n"
     ]
    }
   ],
   "source": [
    "!pip install seaborn"
   ]
  },
  {
   "cell_type": "code",
   "execution_count": 6,
   "id": "40fb6039",
   "metadata": {},
   "outputs": [],
   "source": [
    "import seaborn as sns"
   ]
  },
  {
   "cell_type": "code",
   "execution_count": 7,
   "id": "0220da60",
   "metadata": {},
   "outputs": [
    {
     "data": {
      "text/plain": [
       "<seaborn.axisgrid.FacetGrid at 0x23b7b58cec0>"
      ]
     },
     "execution_count": 7,
     "metadata": {},
     "output_type": "execute_result"
    },
    {
     "data": {
      "image/png": "[encoded data removed]",
      "text/plain": [
       "<Figure size 512.222x500 with 1 Axes>"
      ]
     },
     "metadata": {},
     "output_type": "display_data"
    }
   ],
   "source": [
    "sns.set_theme(rc={'figure.figsize':(11.7,8.27)})\n",
    "sns.catplot(x = \"Genre\",y=\"Id\",data=df)\n",
    "#a and y should be named as the head in data set"
   ]
  },
  {
   "cell_type": "code",
   "execution_count": 8,
   "id": "e82fde1a",
   "metadata": {},
   "outputs": [
    {
     "data": {
      "text/html": [
       "<div>\n",
       "<style scoped>\n",
       "    .dataframe tbody tr th:only-of-type {\n",
       "        vertical-align: middle;\n",
       "    }\n",
       "\n",
       "    .dataframe tbody tr th {\n",
       "        vertical-align: top;\n",
       "    }\n",
       "\n",
       "    .dataframe thead th {\n",
       "        text-align: right;\n",
       "    }\n",
       "</style>\n",
       "<table border=\"1\" class=\"dataframe\">\n",
       "  <thead>\n",
       "    <tr style=\"text-align: right;\">\n",
       "      <th></th>\n",
       "      <th>Title</th>\n",
       "      <th>Description</th>\n",
       "      <th>Genre</th>\n",
       "    </tr>\n",
       "  </thead>\n",
       "  <tbody>\n",
       "    <tr>\n",
       "      <th>0</th>\n",
       "      <td>Oscar et la dame rose (2009)</td>\n",
       "      <td>Listening in to a conversation between his do...</td>\n",
       "      <td>drama</td>\n",
       "    </tr>\n",
       "    <tr>\n",
       "      <th>1</th>\n",
       "      <td>Cupid (1997)</td>\n",
       "      <td>A brother and sister with a past incestuous r...</td>\n",
       "      <td>thriller</td>\n",
       "    </tr>\n",
       "    <tr>\n",
       "      <th>2</th>\n",
       "      <td>Young, Wild and Wonderful (1980)</td>\n",
       "      <td>As the bus empties the students for their fie...</td>\n",
       "      <td>adult</td>\n",
       "    </tr>\n",
       "    <tr>\n",
       "      <th>3</th>\n",
       "      <td>The Secret Sin (1915)</td>\n",
       "      <td>To help their unemployed father make ends mee...</td>\n",
       "      <td>drama</td>\n",
       "    </tr>\n",
       "    <tr>\n",
       "      <th>4</th>\n",
       "      <td>The Unrecovered (2007)</td>\n",
       "      <td>The film's title refers not only to the un-re...</td>\n",
       "      <td>drama</td>\n",
       "    </tr>\n",
       "  </tbody>\n",
       "</table>\n",
       "</div>"
      ],
      "text/plain": [
       "                                Title  \\\n",
       "0       Oscar et la dame rose (2009)    \n",
       "1                       Cupid (1997)    \n",
       "2   Young, Wild and Wonderful (1980)    \n",
       "3              The Secret Sin (1915)    \n",
       "4             The Unrecovered (2007)    \n",
       "\n",
       "                                         Description       Genre  \n",
       "0   Listening in to a conversation between his do...      drama   \n",
       "1   A brother and sister with a past incestuous r...   thriller   \n",
       "2   As the bus empties the students for their fie...      adult   \n",
       "3   To help their unemployed father make ends mee...      drama   \n",
       "4   The film's title refers not only to the un-re...      drama   "
      ]
     },
     "execution_count": 8,
     "metadata": {},
     "output_type": "execute_result"
    }
   ],
   "source": [
    "df= df[[\"Title\",\"Description\",\"Genre\"]]\n",
    "df.head()"
   ]
  },
  {
   "cell_type": "code",
   "execution_count": 9,
   "id": "fa8c3ff6",
   "metadata": {},
   "outputs": [
    {
     "name": "stdout",
     "output_type": "stream",
     "text": [
      "^C\n"
     ]
    },
    {
     "name": "stdout",
     "output_type": "stream",
     "text": [
      "Requirement already satisfied: scikit-learn in e:\\codsoft\\genre classification\\environment\\lib\\site-packages (1.5.2)\n",
      "Requirement already satisfied: numpy>=1.19.5 in e:\\codsoft\\genre classification\\environment\\lib\\site-packages (from scikit-learn) (2.1.2)\n",
      "Requirement already satisfied: scipy>=1.6.0 in e:\\codsoft\\genre classification\\environment\\lib\\site-packages (from scikit-learn) (1.14.1)\n",
      "Requirement already satisfied: joblib>=1.2.0 in e:\\codsoft\\genre classification\\environment\\lib\\site-packages (from scikit-learn) (1.4.2)\n",
      "Requirement already satisfied: threadpoolctl>=3.1.0 in e:\\codsoft\\genre classification\\environment\\lib\\site-packages (from scikit-learn) (3.5.0)\n"
     ]
    }
   ],
   "source": [
    "!pip install scikit-learn"
   ]
  },
  {
   "cell_type": "code",
   "execution_count": 9,
   "id": "1d683aaa",
   "metadata": {},
   "outputs": [
    {
     "data": {
      "text/plain": [
       "Genre\n",
       "drama           13613\n",
       "documentary     13096\n",
       "comedy           7447\n",
       "short            5073\n",
       "horror           2204\n",
       "thriller         1591\n",
       "action           1315\n",
       "western          1032\n",
       "reality-tv        884\n",
       "family            784\n",
       "adventure         775\n",
       "music             731\n",
       "romance           672\n",
       "sci-fi            647\n",
       "adult             590\n",
       "crime             505\n",
       "animation         498\n",
       "sport             432\n",
       "talk-show         391\n",
       "fantasy           323\n",
       "mystery           319\n",
       "musical           277\n",
       "biography         265\n",
       "history           243\n",
       "game-show         194\n",
       "news              181\n",
       "war               132\n",
       "Name: count, dtype: int64"
      ]
     },
     "execution_count": 9,
     "metadata": {},
     "output_type": "execute_result"
    }
   ],
   "source": [
    "df.Genre.value_counts()"
   ]
  },
  {
   "cell_type": "code",
   "execution_count": 33,
   "id": "70e82591",
   "metadata": {},
   "outputs": [
    {
     "name": "stdout",
     "output_type": "stream",
     "text": [
      "{' drama ': 0, ' thriller ': 1, ' adult ': 2, ' documentary ': 3, ' comedy ': 4, ' crime ': 5, ' reality-tv ': 6, ' horror ': 7, ' sport ': 8, ' animation ': 9, ' action ': 10, ' fantasy ': 11, ' short ': 12, ' sci-fi ': 13, ' music ': 14, ' adventure ': 15, ' talk-show ': 16, ' western ': 17, ' family ': 18, ' mystery ': 19, ' history ': 20, ' news ': 21, ' biography ': 22, ' romance ': 23, ' game-show ': 24, ' musical ': 25, ' war ': 26}\n"
     ]
    }
   ],
   "source": [
    "# providing numbers to labels\n",
    "map_labels = dict()\n",
    "for c,i in enumerate(labels):\n",
    "    map_labels[i] = c\n",
    "print(map_labels)"
   ]
  },
  {
   "cell_type": "code",
   "execution_count": 15,
   "id": "895a4b4b",
   "metadata": {},
   "outputs": [],
   "source": [
    "df[\"label_num\"] = df.Genre.map(map_labels) "
   ]
  },
  {
   "cell_type": "code",
   "execution_count": 16,
   "id": "e156cbf3",
   "metadata": {},
   "outputs": [
    {
     "data": {
      "text/html": [
       "<div>\n",
       "<style scoped>\n",
       "    .dataframe tbody tr th:only-of-type {\n",
       "        vertical-align: middle;\n",
       "    }\n",
       "\n",
       "    .dataframe tbody tr th {\n",
       "        vertical-align: top;\n",
       "    }\n",
       "\n",
       "    .dataframe thead th {\n",
       "        text-align: right;\n",
       "    }\n",
       "</style>\n",
       "<table border=\"1\" class=\"dataframe\">\n",
       "  <thead>\n",
       "    <tr style=\"text-align: right;\">\n",
       "      <th></th>\n",
       "      <th>Title</th>\n",
       "      <th>Description</th>\n",
       "      <th>Genre</th>\n",
       "      <th>label_num</th>\n",
       "    </tr>\n",
       "  </thead>\n",
       "  <tbody>\n",
       "    <tr>\n",
       "      <th>0</th>\n",
       "      <td>Oscar et la dame rose (2009)</td>\n",
       "      <td>Listening in to a conversation between his do...</td>\n",
       "      <td>drama</td>\n",
       "      <td>0</td>\n",
       "    </tr>\n",
       "    <tr>\n",
       "      <th>1</th>\n",
       "      <td>Cupid (1997)</td>\n",
       "      <td>A brother and sister with a past incestuous r...</td>\n",
       "      <td>thriller</td>\n",
       "      <td>1</td>\n",
       "    </tr>\n",
       "    <tr>\n",
       "      <th>2</th>\n",
       "      <td>Young, Wild and Wonderful (1980)</td>\n",
       "      <td>As the bus empties the students for their fie...</td>\n",
       "      <td>adult</td>\n",
       "      <td>2</td>\n",
       "    </tr>\n",
       "    <tr>\n",
       "      <th>3</th>\n",
       "      <td>The Secret Sin (1915)</td>\n",
       "      <td>To help their unemployed father make ends mee...</td>\n",
       "      <td>drama</td>\n",
       "      <td>0</td>\n",
       "    </tr>\n",
       "    <tr>\n",
       "      <th>4</th>\n",
       "      <td>The Unrecovered (2007)</td>\n",
       "      <td>The film's title refers not only to the un-re...</td>\n",
       "      <td>drama</td>\n",
       "      <td>0</td>\n",
       "    </tr>\n",
       "  </tbody>\n",
       "</table>\n",
       "</div>"
      ],
      "text/plain": [
       "                                Title  \\\n",
       "0       Oscar et la dame rose (2009)    \n",
       "1                       Cupid (1997)    \n",
       "2   Young, Wild and Wonderful (1980)    \n",
       "3              The Secret Sin (1915)    \n",
       "4             The Unrecovered (2007)    \n",
       "\n",
       "                                         Description       Genre  label_num  \n",
       "0   Listening in to a conversation between his do...      drama           0  \n",
       "1   A brother and sister with a past incestuous r...   thriller           1  \n",
       "2   As the bus empties the students for their fie...      adult           2  \n",
       "3   To help their unemployed father make ends mee...      drama           0  \n",
       "4   The film's title refers not only to the un-re...      drama           0  "
      ]
     },
     "execution_count": 16,
     "metadata": {},
     "output_type": "execute_result"
    }
   ],
   "source": [
    "df.head()"
   ]
  },
  {
   "cell_type": "code",
   "execution_count": 17,
   "id": "d87d8421",
   "metadata": {},
   "outputs": [],
   "source": [
    "path = \"Genre Classification Dataset/test_data_solution.txt\"\n",
    "df_test = pd.read_csv(path,sep=\":::\",names=[\"Id\",\"Title\",\"Genre\",\"Description\"],engine=\"python\")"
   ]
  },
  {
   "cell_type": "code",
   "execution_count": 13,
   "id": "4377e7c5",
   "metadata": {},
   "outputs": [],
   "source": [
    "df_test = df_test[[\"Genre\",\"Description\"]]"
   ]
  },
  {
   "cell_type": "code",
   "execution_count": 18,
   "id": "5328c165",
   "metadata": {},
   "outputs": [],
   "source": [
    "df = df[[\"Genre\",\"Description\",\"label_num\"]]"
   ]
  },
  {
   "cell_type": "code",
   "execution_count": 19,
   "id": "376f2290",
   "metadata": {},
   "outputs": [],
   "source": [
    "df_test[\"label_num\"] = df_test.Genre.map(map_labels)"
   ]
  },
  {
   "cell_type": "code",
   "execution_count": 20,
   "id": "863ad1c2",
   "metadata": {},
   "outputs": [],
   "source": [
    "X_train,Y_train = df.Description,df.label_num\n",
    "X_test,Y_test = df_test.Description,df_test.label_num"
   ]
  },
  {
   "cell_type": "code",
   "execution_count": 21,
   "id": "0baf0515",
   "metadata": {},
   "outputs": [
    {
     "data": {
      "text/plain": [
       "label_num\n",
       "0     13613\n",
       "3     13096\n",
       "4      7447\n",
       "12     5073\n",
       "7      2204\n",
       "1      1591\n",
       "10     1315\n",
       "17     1032\n",
       "6       884\n",
       "18      784\n",
       "15      775\n",
       "14      731\n",
       "23      672\n",
       "13      647\n",
       "2       590\n",
       "5       505\n",
       "9       498\n",
       "8       432\n",
       "16      391\n",
       "11      323\n",
       "19      319\n",
       "25      277\n",
       "22      265\n",
       "20      243\n",
       "24      194\n",
       "21      181\n",
       "26      132\n",
       "Name: count, dtype: int64"
      ]
     },
     "execution_count": 21,
     "metadata": {},
     "output_type": "execute_result"
    }
   ],
   "source": [
    "Y_train.value_counts()"
   ]
  },
  {
   "cell_type": "code",
   "execution_count": 24,
   "id": "cb21dae9",
   "metadata": {},
   "outputs": [],
   "source": [
    "from sklearn.naive_bayes import MultinomialNB\n",
    "from sklearn.linear_model import LogisticRegression\n",
    "from sklearn.svm import LinearSVC"
   ]
  },
  {
   "cell_type": "code",
   "execution_count": 25,
   "id": "c3d71100",
   "metadata": {},
   "outputs": [],
   "source": [
    "from sklearn.feature_extraction.text import TfidfVectorizer\n",
    "from sklearn.pipeline import Pipeline\n",
    "from sklearn import metrics"
   ]
  },
  {
   "cell_type": "markdown",
   "id": "d093ca8a",
   "metadata": {},
   "source": [
    "Naive Bayes Machine training and performance"
   ]
  },
  {
   "cell_type": "code",
   "execution_count": 52,
   "id": "d41a0957",
   "metadata": {},
   "outputs": [
    {
     "name": "stdout",
     "output_type": "stream",
     "text": [
      "              precision    recall  f1-score   support\n",
      "\n",
      "           0       0.38      0.88      0.53     13612\n",
      "           1       0.00      0.00      0.00      1590\n",
      "           2       0.00      0.00      0.00       590\n",
      "           3       0.53      0.90      0.67     13096\n",
      "           4       0.65      0.03      0.06      7446\n",
      "           5       0.00      0.00      0.00       505\n",
      "           6       0.00      0.00      0.00       883\n",
      "           7       0.00      0.00      0.00      2204\n",
      "           8       0.00      0.00      0.00       431\n",
      "           9       0.00      0.00      0.00       498\n",
      "          10       0.00      0.00      0.00      1314\n",
      "          11       0.00      0.00      0.00       322\n",
      "          12       1.00      0.00      0.01      5072\n",
      "          13       0.00      0.00      0.00       646\n",
      "          14       0.00      0.00      0.00       731\n",
      "          15       0.00      0.00      0.00       775\n",
      "          16       0.00      0.00      0.00       391\n",
      "          17       0.00      0.00      0.00      1032\n",
      "          18       0.00      0.00      0.00       783\n",
      "          19       0.00      0.00      0.00       318\n",
      "          20       0.00      0.00      0.00       243\n",
      "          21       0.00      0.00      0.00       181\n",
      "          22       0.00      0.00      0.00       264\n",
      "          23       0.00      0.00      0.00       672\n",
      "          24       0.00      0.00      0.00       193\n",
      "          25       0.00      0.00      0.00       276\n",
      "          26       0.00      0.00      0.00       132\n",
      "\n",
      "    accuracy                           0.44     54200\n",
      "   macro avg       0.09      0.07      0.05     54200\n",
      "weighted avg       0.41      0.44      0.30     54200\n",
      "\n"
     ]
    }
   ],
   "source": [
    "clf_NB = Pipeline([\n",
    "    ('vectorizer_tfidf',TfidfVectorizer()),\n",
    "    ('Multinomial',MultinomialNB())\n",
    "])\n",
    "clf_NB.fit(X_train,Y_train)\n",
    "Y_pred = clf_NB.predict(X_test)\n",
    "print(metrics.classification_report(Y_test,Y_pred,zero_division=0))"
   ]
  },
  {
   "cell_type": "markdown",
   "id": "0f0325eb",
   "metadata": {},
   "source": [
    "Logistic regression training and performance"
   ]
  },
  {
   "cell_type": "code",
   "execution_count": 28,
   "id": "d975092a",
   "metadata": {},
   "outputs": [
    {
     "name": "stdout",
     "output_type": "stream",
     "text": [
      "              precision    recall  f1-score   support\n",
      "\n",
      "           0       0.54      0.80      0.64     13612\n",
      "           1       0.43      0.11      0.17      1590\n",
      "           2       0.65      0.20      0.31       590\n",
      "           3       0.67      0.88      0.76     13096\n",
      "           4       0.54      0.60      0.57      7446\n",
      "           5       0.44      0.02      0.04       505\n",
      "           6       0.52      0.19      0.27       883\n",
      "           7       0.67      0.56      0.61      2204\n",
      "           8       0.81      0.24      0.37       431\n",
      "           9       0.63      0.02      0.05       498\n",
      "          10       0.52      0.25      0.34      1314\n",
      "          11       0.60      0.01      0.02       322\n",
      "          12       0.51      0.31      0.39      5072\n",
      "          13       0.61      0.22      0.32       646\n",
      "          14       0.69      0.41      0.52       731\n",
      "          15       0.74      0.15      0.25       775\n",
      "          16       0.63      0.16      0.25       391\n",
      "          17       0.92      0.70      0.79      1032\n",
      "          18       0.51      0.06      0.11       783\n",
      "          19       0.00      0.00      0.00       318\n",
      "          20       0.00      0.00      0.00       243\n",
      "          21       0.78      0.04      0.07       181\n",
      "          22       0.00      0.00      0.00       264\n",
      "          23       0.39      0.01      0.02       672\n",
      "          24       0.91      0.48      0.63       193\n",
      "          25       1.00      0.01      0.01       276\n",
      "          26       1.00      0.01      0.02       132\n",
      "\n",
      "    accuracy                           0.59     54200\n",
      "   macro avg       0.58      0.24      0.28     54200\n",
      "weighted avg       0.58      0.59      0.54     54200\n",
      "\n"
     ]
    }
   ],
   "source": [
    "clf_LR = Pipeline([\n",
    "    ('vectorizer_tfidf',TfidfVectorizer()),\n",
    "    ('Multinomial',LogisticRegression(solver='saga',max_iter=1000,n_jobs=-1))\n",
    "])\n",
    "clf_LR.fit(X_train,Y_train)\n",
    "Y_pred = clf_LR.predict(X_test)\n",
    "\n",
    "print(metrics.classification_report(Y_test,Y_pred,zero_division=0))"
   ]
  },
  {
   "cell_type": "markdown",
   "id": "80bd2460",
   "metadata": {},
   "source": [
    "State Vector Machine training and performance"
   ]
  },
  {
   "cell_type": "code",
   "execution_count": 27,
   "id": "b57cab7e",
   "metadata": {},
   "outputs": [
    {
     "name": "stdout",
     "output_type": "stream",
     "text": [
      "              precision    recall  f1-score   support\n",
      "\n",
      "           0       0.57      0.73      0.64     13612\n",
      "           1       0.32      0.17      0.22      1590\n",
      "           2       0.65      0.43      0.52       590\n",
      "           3       0.70      0.84      0.76     13096\n",
      "           4       0.56      0.60      0.58      7446\n",
      "           5       0.28      0.06      0.10       505\n",
      "           6       0.49      0.27      0.35       883\n",
      "           7       0.61      0.63      0.62      2204\n",
      "           8       0.64      0.41      0.50       431\n",
      "           9       0.38      0.12      0.18       498\n",
      "          10       0.43      0.35      0.38      1314\n",
      "          11       0.32      0.09      0.14       322\n",
      "          12       0.45      0.35      0.39      5072\n",
      "          13       0.55      0.35      0.43       646\n",
      "          14       0.62      0.54      0.58       731\n",
      "          15       0.52      0.22      0.31       775\n",
      "          16       0.59      0.29      0.39       391\n",
      "          17       0.85      0.84      0.85      1032\n",
      "          18       0.37      0.14      0.21       783\n",
      "          19       0.21      0.03      0.06       318\n",
      "          20       0.26      0.02      0.04       243\n",
      "          21       0.63      0.12      0.20       181\n",
      "          22       0.00      0.00      0.00       264\n",
      "          23       0.28      0.05      0.09       672\n",
      "          24       0.81      0.63      0.71       193\n",
      "          25       0.33      0.07      0.11       276\n",
      "          26       0.66      0.17      0.28       132\n",
      "\n",
      "    accuracy                           0.59     54200\n",
      "   macro avg       0.49      0.32      0.36     54200\n",
      "weighted avg       0.57      0.59      0.57     54200\n",
      "\n"
     ]
    }
   ],
   "source": [
    "clf_LS = Pipeline([\n",
    "    ('vectorizer_tfidf',TfidfVectorizer()),\n",
    "    ('Multinomial',LinearSVC())\n",
    "])\n",
    "clf_LS.fit(X_train,Y_train)\n",
    "Y_pred = clf_LS.predict(X_test)\n",
    "\n",
    "print(metrics.classification_report(Y_test,Y_pred,zero_division=0))"
   ]
  },
  {
   "cell_type": "code",
   "execution_count": 36,
   "id": "0c515d53",
   "metadata": {},
   "outputs": [
    {
     "name": "stdout",
     "output_type": "stream",
     "text": [
      "{0: ' drama ', 1: ' thriller ', 2: ' adult ', 3: ' documentary ', 4: ' comedy ', 5: ' crime ', 6: ' reality-tv ', 7: ' horror ', 8: ' sport ', 9: ' animation ', 10: ' action ', 11: ' fantasy ', 12: ' short ', 13: ' sci-fi ', 14: ' music ', 15: ' adventure ', 16: ' talk-show ', 17: ' western ', 18: ' family ', 19: ' mystery ', 20: ' history ', 21: ' news ', 22: ' biography ', 23: ' romance ', 24: ' game-show ', 25: ' musical ', 26: ' war '}\n"
     ]
    }
   ],
   "source": [
    "inverted_map = dict()\n",
    "for key,value in map_labels.items():\n",
    "    inverted_map[value] = key\n",
    "print(inverted_map)"
   ]
  },
  {
   "cell_type": "code",
   "execution_count": 42,
   "id": "1fba9edd",
   "metadata": {},
   "outputs": [
    {
     "name": "stdout",
     "output_type": "stream",
     "text": [
      "                                  title  \\\n",
      "1                 Edgar's Lunch (1998)    \n",
      "2             La guerra de papá (1977)    \n",
      "3          Off the Beaten Track (2010)    \n",
      "4               Meu Amigo Hindu (2015)    \n",
      "5                    Er nu zhai (1955)    \n",
      "...                                 ...   \n",
      "54196   \"Tales of Light & Dark\" (2013)    \n",
      "54197      Der letzte Mohikaner (1965)    \n",
      "54198              Oliver Twink (2007)    \n",
      "54199                Slipstream (1973)    \n",
      "54200        Curitiba Zero Grau (2010)    \n",
      "\n",
      "                                             description  \n",
      "1       L.R. Brane loves his life - his car, his apar...  \n",
      "2       Spain, March 1964: Quico is a very naughty ch...  \n",
      "3       One year in the life of Albin and his family ...  \n",
      "4       His father has died, he hasn't spoken with hi...  \n",
      "5       Before he was known internationally as a mart...  \n",
      "...                                                  ...  \n",
      "54196   Covering multiple genres, Tales of Light & Da...  \n",
      "54197   As Alice and Cora Munro attempt to find their...  \n",
      "54198   A movie 169 years in the making. Oliver Twist...  \n",
      "54199   Popular, but mysterious rock D.J Mike Mallard...  \n",
      "54200   Curitiba is a city in movement, with rhythms ...  \n",
      "\n",
      "[54200 rows x 2 columns]\n"
     ]
    }
   ],
   "source": [
    "path = \"Genre Classification Dataset/test_data.txt\"\n",
    "test_data = pd.read_csv(path,sep=\":::\",names=[\"title\",\"description\"],engine=\"python\")\n",
    "print(test_data)"
   ]
  },
  {
   "cell_type": "markdown",
   "id": "a4dd7299",
   "metadata": {},
   "source": [
    "Linear State Vector Machine output"
   ]
  },
  {
   "cell_type": "code",
   "execution_count": 50,
   "id": "95385725",
   "metadata": {},
   "outputs": [
    {
     "name": "stdout",
     "output_type": "stream",
     "text": [
      "[' comedy ', ' drama ', ' documentary ', ' drama ', ' drama ']\n"
     ]
    }
   ],
   "source": [
    "prediction = list(clf_LS.predict(test_data.description))\n",
    "first_five_output = [inverted_map[prediction[i]] for i in range(5)]\n",
    "print(first_five_output)"
   ]
  },
  {
   "cell_type": "markdown",
   "id": "fe47561f",
   "metadata": {},
   "source": [
    "Logistic Regerssion output"
   ]
  },
  {
   "cell_type": "code",
   "execution_count": 51,
   "id": "d076cd8c",
   "metadata": {},
   "outputs": [
    {
     "name": "stdout",
     "output_type": "stream",
     "text": [
      "[' drama ', ' drama ', ' documentary ', ' drama ', ' drama ']\n"
     ]
    }
   ],
   "source": [
    "prediction = list(clf_LR.predict(test_data.description))\n",
    "first_five_output = [inverted_map[prediction[i]] for i in range(5)]\n",
    "print(first_five_output)"
   ]
  },
  {
   "cell_type": "markdown",
   "id": "5ff66723",
   "metadata": {},
   "source": [
    "Naive bayes output"
   ]
  },
  {
   "cell_type": "code",
   "execution_count": 53,
   "id": "e35c4bba",
   "metadata": {},
   "outputs": [
    {
     "name": "stdout",
     "output_type": "stream",
     "text": [
      "[' drama ', ' drama ', ' documentary ', ' drama ', ' drama ']\n"
     ]
    }
   ],
   "source": [
    "prediction = list(clf_NB.predict(test_data.description))\n",
    "first_five_output = [inverted_map[prediction[i]] for i in range(5)]\n",
    "print(first_five_output)"
   ]
  },
  {
   "cell_type": "code",
   "execution_count": null,
   "id": "c0c5ed83",
   "metadata": {},
   "outputs": [],
   "source": []
  }
 ],
 "metadata": {
  "kernelspec": {
   "display_name": "Python 3 (ipykernel)",
   "language": "python",
   "name": "python3"
  },
  "language_info": {
   "codemirror_mode": {
    "name": "ipython",
    "version": 3
   },
   "file_extension": ".py",
   "mimetype": "text/x-python",
   "name": "python",
   "nbconvert_exporter": "python",
   "pygments_lexer": "ipython3",
   "version": "3.12.3"
  }
 },
 "nbformat": 4,
 "nbformat_minor": 5
}
